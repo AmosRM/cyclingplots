{
 "cells": [
  {
   "cell_type": "code",
   "execution_count": 2,
   "metadata": {},
   "outputs": [],
   "source": [
    "import pandas as pd\n",
    "import numpy as np\n",
    "import matplotlib.pyplot as plt"
   ]
  },
  {
   "cell_type": "code",
   "execution_count": 3,
   "metadata": {},
   "outputs": [],
   "source": [
    "route_df = pd.read_csv('../python-Amos/route_df.csv')"
   ]
  },
  {
   "cell_type": "code",
   "execution_count": 4,
   "metadata": {},
   "outputs": [
    {
     "data": {
      "text/html": [
       "<div>\n",
       "<style scoped>\n",
       "    .dataframe tbody tr th:only-of-type {\n",
       "        vertical-align: middle;\n",
       "    }\n",
       "\n",
       "    .dataframe tbody tr th {\n",
       "        vertical-align: top;\n",
       "    }\n",
       "\n",
       "    .dataframe thead th {\n",
       "        text-align: right;\n",
       "    }\n",
       "</style>\n",
       "<table border=\"1\" class=\"dataframe\">\n",
       "  <thead>\n",
       "    <tr style=\"text-align: right;\">\n",
       "      <th></th>\n",
       "      <th>latitude</th>\n",
       "      <th>longitude</th>\n",
       "      <th>elevation</th>\n",
       "      <th>time</th>\n",
       "    </tr>\n",
       "  </thead>\n",
       "  <tbody>\n",
       "    <tr>\n",
       "      <th>0</th>\n",
       "      <td>24.674256</td>\n",
       "      <td>121.768730</td>\n",
       "      <td>8.0</td>\n",
       "      <td>2022-04-15 19:08:13+00:00</td>\n",
       "    </tr>\n",
       "    <tr>\n",
       "      <th>1</th>\n",
       "      <td>24.674291</td>\n",
       "      <td>121.768728</td>\n",
       "      <td>6.0</td>\n",
       "      <td>2022-04-15 19:08:14+00:00</td>\n",
       "    </tr>\n",
       "    <tr>\n",
       "      <th>2</th>\n",
       "      <td>24.674329</td>\n",
       "      <td>121.768746</td>\n",
       "      <td>6.4</td>\n",
       "      <td>2022-04-15 19:08:15+00:00</td>\n",
       "    </tr>\n",
       "    <tr>\n",
       "      <th>3</th>\n",
       "      <td>24.674374</td>\n",
       "      <td>121.768770</td>\n",
       "      <td>6.4</td>\n",
       "      <td>2022-04-15 19:08:16+00:00</td>\n",
       "    </tr>\n",
       "    <tr>\n",
       "      <th>4</th>\n",
       "      <td>24.674417</td>\n",
       "      <td>121.768814</td>\n",
       "      <td>6.4</td>\n",
       "      <td>2022-04-15 19:08:17+00:00</td>\n",
       "    </tr>\n",
       "  </tbody>\n",
       "</table>\n",
       "</div>"
      ],
      "text/plain": [
       "    latitude   longitude  elevation                       time\n",
       "0  24.674256  121.768730        8.0  2022-04-15 19:08:13+00:00\n",
       "1  24.674291  121.768728        6.0  2022-04-15 19:08:14+00:00\n",
       "2  24.674329  121.768746        6.4  2022-04-15 19:08:15+00:00\n",
       "3  24.674374  121.768770        6.4  2022-04-15 19:08:16+00:00\n",
       "4  24.674417  121.768814        6.4  2022-04-15 19:08:17+00:00"
      ]
     },
     "execution_count": 4,
     "metadata": {},
     "output_type": "execute_result"
    }
   ],
   "source": [
    "route_df.head()"
   ]
  },
  {
   "cell_type": "code",
   "execution_count": 5,
   "metadata": {},
   "outputs": [
    {
     "data": {
      "text/html": [
       "<div>\n",
       "<style scoped>\n",
       "    .dataframe tbody tr th:only-of-type {\n",
       "        vertical-align: middle;\n",
       "    }\n",
       "\n",
       "    .dataframe tbody tr th {\n",
       "        vertical-align: top;\n",
       "    }\n",
       "\n",
       "    .dataframe thead th {\n",
       "        text-align: right;\n",
       "    }\n",
       "</style>\n",
       "<table border=\"1\" class=\"dataframe\">\n",
       "  <thead>\n",
       "    <tr style=\"text-align: right;\">\n",
       "      <th></th>\n",
       "      <th>latitude</th>\n",
       "      <th>longitude</th>\n",
       "      <th>elevation</th>\n",
       "      <th>time</th>\n",
       "      <th>elevation_diff</th>\n",
       "    </tr>\n",
       "  </thead>\n",
       "  <tbody>\n",
       "    <tr>\n",
       "      <th>0</th>\n",
       "      <td>24.674256</td>\n",
       "      <td>121.768730</td>\n",
       "      <td>8.0</td>\n",
       "      <td>2022-04-15 19:08:13+00:00</td>\n",
       "      <td>NaN</td>\n",
       "    </tr>\n",
       "    <tr>\n",
       "      <th>1</th>\n",
       "      <td>24.674291</td>\n",
       "      <td>121.768728</td>\n",
       "      <td>6.0</td>\n",
       "      <td>2022-04-15 19:08:14+00:00</td>\n",
       "      <td>-2.0</td>\n",
       "    </tr>\n",
       "    <tr>\n",
       "      <th>2</th>\n",
       "      <td>24.674329</td>\n",
       "      <td>121.768746</td>\n",
       "      <td>6.4</td>\n",
       "      <td>2022-04-15 19:08:15+00:00</td>\n",
       "      <td>0.4</td>\n",
       "    </tr>\n",
       "    <tr>\n",
       "      <th>3</th>\n",
       "      <td>24.674374</td>\n",
       "      <td>121.768770</td>\n",
       "      <td>6.4</td>\n",
       "      <td>2022-04-15 19:08:16+00:00</td>\n",
       "      <td>0.0</td>\n",
       "    </tr>\n",
       "    <tr>\n",
       "      <th>4</th>\n",
       "      <td>24.674417</td>\n",
       "      <td>121.768814</td>\n",
       "      <td>6.4</td>\n",
       "      <td>2022-04-15 19:08:17+00:00</td>\n",
       "      <td>0.0</td>\n",
       "    </tr>\n",
       "  </tbody>\n",
       "</table>\n",
       "</div>"
      ],
      "text/plain": [
       "    latitude   longitude  elevation                       time  elevation_diff\n",
       "0  24.674256  121.768730        8.0  2022-04-15 19:08:13+00:00             NaN\n",
       "1  24.674291  121.768728        6.0  2022-04-15 19:08:14+00:00            -2.0\n",
       "2  24.674329  121.768746        6.4  2022-04-15 19:08:15+00:00             0.4\n",
       "3  24.674374  121.768770        6.4  2022-04-15 19:08:16+00:00             0.0\n",
       "4  24.674417  121.768814        6.4  2022-04-15 19:08:17+00:00             0.0"
      ]
     },
     "execution_count": 5,
     "metadata": {},
     "output_type": "execute_result"
    }
   ],
   "source": [
    "# add elevation difference\n",
    "route_df['elevation_diff'] = route_df['elevation'].diff()\n",
    "route_df.head()"
   ]
  },
  {
   "cell_type": "code",
   "execution_count": 6,
   "metadata": {},
   "outputs": [],
   "source": [
    "import haversine as hs"
   ]
  },
  {
   "cell_type": "code",
   "execution_count": 7,
   "metadata": {},
   "outputs": [],
   "source": [
    "# create a haversine function to calculate distance\n",
    "\n",
    "def haversine_distance(lat1, lon1, lat2, lon2) -> float:\n",
    "    distance = hs.haversine(\n",
    "            point1 = (lat1,lon1),\n",
    "            point2 = (lat2,lon2),\n",
    "            unit = hs.Unit.METERS\n",
    "    )\n",
    "    return np.round(distance, 2)"
   ]
  },
  {
   "cell_type": "code",
   "execution_count": 8,
   "metadata": {},
   "outputs": [
    {
     "data": {
      "text/plain": [
       "3.89"
      ]
     },
     "execution_count": 8,
     "metadata": {},
     "output_type": "execute_result"
    }
   ],
   "source": [
    "# lets check the function\n",
    "\n",
    "haversine_distance(\n",
    "    lat1=route_df.iloc[0]['latitude'],\n",
    "    lon1=route_df.iloc[0]['longitude'],\n",
    "    lat2=route_df.iloc[1]['latitude'],\n",
    "    lon2=route_df.iloc[1]['longitude']\n",
    ")"
   ]
  },
  {
   "cell_type": "code",
   "execution_count": 9,
   "metadata": {},
   "outputs": [
    {
     "data": {
      "text/html": [
       "<div>\n",
       "<style scoped>\n",
       "    .dataframe tbody tr th:only-of-type {\n",
       "        vertical-align: middle;\n",
       "    }\n",
       "\n",
       "    .dataframe tbody tr th {\n",
       "        vertical-align: top;\n",
       "    }\n",
       "\n",
       "    .dataframe thead th {\n",
       "        text-align: right;\n",
       "    }\n",
       "</style>\n",
       "<table border=\"1\" class=\"dataframe\">\n",
       "  <thead>\n",
       "    <tr style=\"text-align: right;\">\n",
       "      <th></th>\n",
       "      <th>latitude</th>\n",
       "      <th>longitude</th>\n",
       "      <th>elevation</th>\n",
       "      <th>time</th>\n",
       "      <th>elevation_diff</th>\n",
       "      <th>distance</th>\n",
       "    </tr>\n",
       "  </thead>\n",
       "  <tbody>\n",
       "    <tr>\n",
       "      <th>0</th>\n",
       "      <td>24.674256</td>\n",
       "      <td>121.768730</td>\n",
       "      <td>8.0</td>\n",
       "      <td>2022-04-15 19:08:13+00:00</td>\n",
       "      <td>NaN</td>\n",
       "      <td>NaN</td>\n",
       "    </tr>\n",
       "    <tr>\n",
       "      <th>1</th>\n",
       "      <td>24.674291</td>\n",
       "      <td>121.768728</td>\n",
       "      <td>6.0</td>\n",
       "      <td>2022-04-15 19:08:14+00:00</td>\n",
       "      <td>-2.0</td>\n",
       "      <td>3.89</td>\n",
       "    </tr>\n",
       "    <tr>\n",
       "      <th>2</th>\n",
       "      <td>24.674329</td>\n",
       "      <td>121.768746</td>\n",
       "      <td>6.4</td>\n",
       "      <td>2022-04-15 19:08:15+00:00</td>\n",
       "      <td>0.4</td>\n",
       "      <td>4.63</td>\n",
       "    </tr>\n",
       "    <tr>\n",
       "      <th>3</th>\n",
       "      <td>24.674374</td>\n",
       "      <td>121.768770</td>\n",
       "      <td>6.4</td>\n",
       "      <td>2022-04-15 19:08:16+00:00</td>\n",
       "      <td>0.0</td>\n",
       "      <td>5.55</td>\n",
       "    </tr>\n",
       "    <tr>\n",
       "      <th>4</th>\n",
       "      <td>24.674417</td>\n",
       "      <td>121.768814</td>\n",
       "      <td>6.4</td>\n",
       "      <td>2022-04-15 19:08:17+00:00</td>\n",
       "      <td>0.0</td>\n",
       "      <td>6.53</td>\n",
       "    </tr>\n",
       "  </tbody>\n",
       "</table>\n",
       "</div>"
      ],
      "text/plain": [
       "    latitude   longitude  elevation                       time  \\\n",
       "0  24.674256  121.768730        8.0  2022-04-15 19:08:13+00:00   \n",
       "1  24.674291  121.768728        6.0  2022-04-15 19:08:14+00:00   \n",
       "2  24.674329  121.768746        6.4  2022-04-15 19:08:15+00:00   \n",
       "3  24.674374  121.768770        6.4  2022-04-15 19:08:16+00:00   \n",
       "4  24.674417  121.768814        6.4  2022-04-15 19:08:17+00:00   \n",
       "\n",
       "   elevation_diff  distance  \n",
       "0             NaN       NaN  \n",
       "1            -2.0      3.89  \n",
       "2             0.4      4.63  \n",
       "3             0.0      5.55  \n",
       "4             0.0      6.53  "
      ]
     },
     "execution_count": 9,
     "metadata": {},
     "output_type": "execute_result"
    }
   ],
   "source": [
    "# loop it for all points\n",
    "\n",
    "distances = [np.nan]\n",
    "\n",
    "for i in range(len(route_df)):\n",
    "    if i == 0:\n",
    "        continue\n",
    "    else:\n",
    "        distances.append(haversine_distance(\n",
    "            lat1=route_df.iloc[i - 1]['latitude'],\n",
    "            lon1=route_df.iloc[i - 1]['longitude'],\n",
    "            lat2=route_df.iloc[i]['latitude'],\n",
    "            lon2=route_df.iloc[i]['longitude']\n",
    "        ))\n",
    "        \n",
    "route_df['distance'] = distances\n",
    "route_df.head()"
   ]
  },
  {
   "cell_type": "code",
   "execution_count": 10,
   "metadata": {},
   "outputs": [
    {
     "data": {
      "text/plain": [
       "4721.399453639983"
      ]
     },
     "execution_count": 10,
     "metadata": {},
     "output_type": "execute_result"
    }
   ],
   "source": [
    "# calculate elevation gain\n",
    "route_df[route_df['elevation_diff']>=0]['elevation_diff'].sum()"
   ]
  },
  {
   "cell_type": "code",
   "execution_count": 11,
   "metadata": {},
   "outputs": [
    {
     "data": {
      "text/plain": [
       "201470.50000000003"
      ]
     },
     "execution_count": 11,
     "metadata": {},
     "output_type": "execute_result"
    }
   ],
   "source": [
    "# calculate total distance\n",
    "route_df['distance'].sum()"
   ]
  },
  {
   "cell_type": "code",
   "execution_count": 12,
   "metadata": {},
   "outputs": [
    {
     "data": {
      "text/html": [
       "<div>\n",
       "<style scoped>\n",
       "    .dataframe tbody tr th:only-of-type {\n",
       "        vertical-align: middle;\n",
       "    }\n",
       "\n",
       "    .dataframe tbody tr th {\n",
       "        vertical-align: top;\n",
       "    }\n",
       "\n",
       "    .dataframe thead th {\n",
       "        text-align: right;\n",
       "    }\n",
       "</style>\n",
       "<table border=\"1\" class=\"dataframe\">\n",
       "  <thead>\n",
       "    <tr style=\"text-align: right;\">\n",
       "      <th></th>\n",
       "      <th>latitude</th>\n",
       "      <th>longitude</th>\n",
       "      <th>elevation</th>\n",
       "      <th>time</th>\n",
       "      <th>elevation_diff</th>\n",
       "      <th>distance</th>\n",
       "      <th>cum_elevation</th>\n",
       "      <th>cum_distance</th>\n",
       "    </tr>\n",
       "  </thead>\n",
       "  <tbody>\n",
       "    <tr>\n",
       "      <th>0</th>\n",
       "      <td>24.674256</td>\n",
       "      <td>121.768730</td>\n",
       "      <td>8.0</td>\n",
       "      <td>2022-04-15 19:08:13+00:00</td>\n",
       "      <td>NaN</td>\n",
       "      <td>NaN</td>\n",
       "      <td>NaN</td>\n",
       "      <td>NaN</td>\n",
       "    </tr>\n",
       "    <tr>\n",
       "      <th>1</th>\n",
       "      <td>24.674291</td>\n",
       "      <td>121.768728</td>\n",
       "      <td>6.0</td>\n",
       "      <td>2022-04-15 19:08:14+00:00</td>\n",
       "      <td>-2.0</td>\n",
       "      <td>3.89</td>\n",
       "      <td>-2.0</td>\n",
       "      <td>3.89</td>\n",
       "    </tr>\n",
       "    <tr>\n",
       "      <th>2</th>\n",
       "      <td>24.674329</td>\n",
       "      <td>121.768746</td>\n",
       "      <td>6.4</td>\n",
       "      <td>2022-04-15 19:08:15+00:00</td>\n",
       "      <td>0.4</td>\n",
       "      <td>4.63</td>\n",
       "      <td>-1.6</td>\n",
       "      <td>8.52</td>\n",
       "    </tr>\n",
       "    <tr>\n",
       "      <th>3</th>\n",
       "      <td>24.674374</td>\n",
       "      <td>121.768770</td>\n",
       "      <td>6.4</td>\n",
       "      <td>2022-04-15 19:08:16+00:00</td>\n",
       "      <td>0.0</td>\n",
       "      <td>5.55</td>\n",
       "      <td>-1.6</td>\n",
       "      <td>14.07</td>\n",
       "    </tr>\n",
       "    <tr>\n",
       "      <th>4</th>\n",
       "      <td>24.674417</td>\n",
       "      <td>121.768814</td>\n",
       "      <td>6.4</td>\n",
       "      <td>2022-04-15 19:08:17+00:00</td>\n",
       "      <td>0.0</td>\n",
       "      <td>6.53</td>\n",
       "      <td>-1.6</td>\n",
       "      <td>20.60</td>\n",
       "    </tr>\n",
       "  </tbody>\n",
       "</table>\n",
       "</div>"
      ],
      "text/plain": [
       "    latitude   longitude  elevation                       time  \\\n",
       "0  24.674256  121.768730        8.0  2022-04-15 19:08:13+00:00   \n",
       "1  24.674291  121.768728        6.0  2022-04-15 19:08:14+00:00   \n",
       "2  24.674329  121.768746        6.4  2022-04-15 19:08:15+00:00   \n",
       "3  24.674374  121.768770        6.4  2022-04-15 19:08:16+00:00   \n",
       "4  24.674417  121.768814        6.4  2022-04-15 19:08:17+00:00   \n",
       "\n",
       "   elevation_diff  distance  cum_elevation  cum_distance  \n",
       "0             NaN       NaN            NaN           NaN  \n",
       "1            -2.0      3.89           -2.0          3.89  \n",
       "2             0.4      4.63           -1.6          8.52  \n",
       "3             0.0      5.55           -1.6         14.07  \n",
       "4             0.0      6.53           -1.6         20.60  "
      ]
     },
     "execution_count": 12,
     "metadata": {},
     "output_type": "execute_result"
    }
   ],
   "source": [
    "# create colums for plotting distance to elevation\n",
    "\n",
    "route_df['cum_elevation'] = route_df['elevation_diff'].cumsum()\n",
    "route_df['cum_distance'] = route_df['distance'].cumsum()\n",
    "\n",
    "route_df.head()"
   ]
  },
  {
   "cell_type": "code",
   "execution_count": 13,
   "metadata": {},
   "outputs": [],
   "source": [
    "route_df = route_df.fillna(0)"
   ]
  },
  {
   "cell_type": "code",
   "execution_count": 14,
   "metadata": {},
   "outputs": [],
   "source": [
    "route_df.to_csv('route_df_elevation_distance.csv')"
   ]
  },
  {
   "cell_type": "code",
   "execution_count": 15,
   "metadata": {},
   "outputs": [
    {
     "data": {
      "text/plain": [
       "Text(0, 0.5, 'Elevation gain (m)')"
      ]
     },
     "execution_count": 15,
     "metadata": {},
     "output_type": "execute_result"
    },
    {
     "data": {
      "image/png": "[encoded data removed]",
      "text/plain": [
       "<Figure size 864x360 with 1 Axes>"
      ]
     },
     "metadata": {
      "needs_background": "light"
     },
     "output_type": "display_data"
    }
   ],
   "source": [
    "fig = plt.figure(figsize=(12,5))\n",
    "plt.plot(route_df['cum_distance']/1000,route_df['cum_elevation'],lw=2.5)\n",
    "plt.xlabel('Distance (KM)')\n",
    "plt.ylabel('Elevation gain (m)')"
   ]
  }
 ],
 "metadata": {
  "interpreter": {
   "hash": "4c9da11c64175685956b62b2a43a5435873feabc6b3e6469de3f288ec68a77f1"
  },
  "kernelspec": {
   "display_name": "Python 3.8.13 ('gpx_env')",
   "language": "python",
   "name": "python3"
  },
  "language_info": {
   "codemirror_mode": {
    "name": "ipython",
    "version": 3
   },
   "file_extension": ".py",
   "mimetype": "text/x-python",
   "name": "python",
   "nbconvert_exporter": "python",
   "pygments_lexer": "ipython3",
   "version": "3.8.13"
  },
  "orig_nbformat": 4
 },
 "nbformat": 4,
 "nbformat_minor": 2
}
