{
 "cells": [
  {
   "cell_type": "code",
   "execution_count": 1,
   "metadata": {},
   "outputs": [],
   "source": [
    "import pandas as pd\n",
    "import gpxpy"
   ]
  },
  {
   "cell_type": "code",
   "execution_count": 4,
   "metadata": {},
   "outputs": [],
   "source": [
    "with open('../gpx/yilan-wulling.gpx', 'r') as gpx_file:\n",
    "    gpx = gpxpy.parse(gpx_file)"
   ]
  },
  {
   "cell_type": "code",
   "execution_count": 9,
   "metadata": {},
   "outputs": [],
   "source": [
    "route_info = []\n",
    "\n",
    "for track in gpx.tracks:\n",
    "    for segment in track.segments:\n",
    "        for point in segment.points:\n",
    "           route_info.append({\n",
    "               'latitude': point.latitude,\n",
    "               'longitude': point.longitude,\n",
    "               'elevation': point.elevation,\n",
    "               'time': point.time\n",
    "           })"
   ]
  },
  {
   "cell_type": "code",
   "execution_count": 11,
   "metadata": {},
   "outputs": [
    {
     "data": {
      "text/html": [
       "<div>\n",
       "<style scoped>\n",
       "    .dataframe tbody tr th:only-of-type {\n",
       "        vertical-align: middle;\n",
       "    }\n",
       "\n",
       "    .dataframe tbody tr th {\n",
       "        vertical-align: top;\n",
       "    }\n",
       "\n",
       "    .dataframe thead th {\n",
       "        text-align: right;\n",
       "    }\n",
       "</style>\n",
       "<table border=\"1\" class=\"dataframe\">\n",
       "  <thead>\n",
       "    <tr style=\"text-align: right;\">\n",
       "      <th></th>\n",
       "      <th>latitude</th>\n",
       "      <th>longitude</th>\n",
       "      <th>elevation</th>\n",
       "      <th>time</th>\n",
       "    </tr>\n",
       "  </thead>\n",
       "  <tbody>\n",
       "    <tr>\n",
       "      <th>0</th>\n",
       "      <td>24.674256</td>\n",
       "      <td>121.768730</td>\n",
       "      <td>8.0</td>\n",
       "      <td>2022-04-15 19:08:13+00:00</td>\n",
       "    </tr>\n",
       "    <tr>\n",
       "      <th>1</th>\n",
       "      <td>24.674291</td>\n",
       "      <td>121.768728</td>\n",
       "      <td>6.0</td>\n",
       "      <td>2022-04-15 19:08:14+00:00</td>\n",
       "    </tr>\n",
       "    <tr>\n",
       "      <th>2</th>\n",
       "      <td>24.674329</td>\n",
       "      <td>121.768746</td>\n",
       "      <td>6.4</td>\n",
       "      <td>2022-04-15 19:08:15+00:00</td>\n",
       "    </tr>\n",
       "    <tr>\n",
       "      <th>3</th>\n",
       "      <td>24.674374</td>\n",
       "      <td>121.768770</td>\n",
       "      <td>6.4</td>\n",
       "      <td>2022-04-15 19:08:16+00:00</td>\n",
       "    </tr>\n",
       "    <tr>\n",
       "      <th>4</th>\n",
       "      <td>24.674417</td>\n",
       "      <td>121.768814</td>\n",
       "      <td>6.4</td>\n",
       "      <td>2022-04-15 19:08:17+00:00</td>\n",
       "    </tr>\n",
       "  </tbody>\n",
       "</table>\n",
       "</div>"
      ],
      "text/plain": [
       "    latitude   longitude  elevation                      time\n",
       "0  24.674256  121.768730        8.0 2022-04-15 19:08:13+00:00\n",
       "1  24.674291  121.768728        6.0 2022-04-15 19:08:14+00:00\n",
       "2  24.674329  121.768746        6.4 2022-04-15 19:08:15+00:00\n",
       "3  24.674374  121.768770        6.4 2022-04-15 19:08:16+00:00\n",
       "4  24.674417  121.768814        6.4 2022-04-15 19:08:17+00:00"
      ]
     },
     "execution_count": 11,
     "metadata": {},
     "output_type": "execute_result"
    }
   ],
   "source": [
    "route_df = pd.DataFrame(route_info)\n",
    "route_df.head()"
   ]
  }
 ],
 "metadata": {
  "interpreter": {
   "hash": "4c9da11c64175685956b62b2a43a5435873feabc6b3e6469de3f288ec68a77f1"
  },
  "kernelspec": {
   "display_name": "Python 3.8.13 ('gpx_env')",
   "language": "python",
   "name": "python3"
  },
  "language_info": {
   "codemirror_mode": {
    "name": "ipython",
    "version": 3
   },
   "file_extension": ".py",
   "mimetype": "text/x-python",
   "name": "python",
   "nbconvert_exporter": "python",
   "pygments_lexer": "ipython3",
   "version": "3.8.13"
  },
  "orig_nbformat": 4
 },
 "nbformat": 4,
 "nbformat_minor": 2
}
